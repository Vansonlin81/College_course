{
  "nbformat": 4,
  "nbformat_minor": 0,
  "metadata": {
    "colab": {
      "provenance": [],
      "gpuType": "T4"
    },
    "kernelspec": {
      "name": "python3",
      "display_name": "Python 3"
    },
    "language_info": {
      "name": "python"
    },
    "accelerator": "GPU"
  },
  "cells": [
    {
      "cell_type": "markdown",
      "source": [
        "## 範例展示：［OCR軟體］Tesseract"
      ],
      "metadata": {
        "id": "yZZkpTQGYBF_"
      }
    },
    {
      "cell_type": "code",
      "source": [
        "from google.colab import drive\n",
        "drive.mount('/content/drive')"
      ],
      "metadata": {
        "id": "sTyetT9xJUCi",
        "colab": {
          "base_uri": "https://localhost:8080/"
        },
        "outputId": "836496a0-7b65-4d4f-ea4d-c5ffa438e9c2"
      },
      "execution_count": null,
      "outputs": [
        {
          "output_type": "stream",
          "name": "stdout",
          "text": [
            "Mounted at /content/drive\n"
          ]
        }
      ]
    },
    {
      "cell_type": "markdown",
      "source": [
        "安裝 linux 系統上的 tesseract-ocr 軟體"
      ],
      "metadata": {
        "id": "0vjEjggZYzdw"
      }
    },
    {
      "metadata": {
        "id": "uWwpI-24_Nob",
        "colab": {
          "base_uri": "https://localhost:8080/"
        },
        "outputId": "c9b28002-98fa-4433-d09a-0eef8d0a099c"
      },
      "cell_type": "code",
      "source": [
        "!sudo apt install tesseract-ocr"
      ],
      "execution_count": null,
      "outputs": [
        {
          "output_type": "stream",
          "name": "stdout",
          "text": [
            "Reading package lists... Done\n",
            "Building dependency tree... Done\n",
            "Reading state information... Done\n",
            "The following additional packages will be installed:\n",
            "  tesseract-ocr-eng tesseract-ocr-osd\n",
            "The following NEW packages will be installed:\n",
            "  tesseract-ocr tesseract-ocr-eng tesseract-ocr-osd\n",
            "0 upgraded, 3 newly installed, 0 to remove and 16 not upgraded.\n",
            "Need to get 4,816 kB of archives.\n",
            "After this operation, 15.6 MB of additional disk space will be used.\n",
            "Get:1 http://archive.ubuntu.com/ubuntu jammy/universe amd64 tesseract-ocr-eng all 1:4.00~git30-7274cfa-1.1 [1,591 kB]\n",
            "Get:2 http://archive.ubuntu.com/ubuntu jammy/universe amd64 tesseract-ocr-osd all 1:4.00~git30-7274cfa-1.1 [2,990 kB]\n",
            "Get:3 http://archive.ubuntu.com/ubuntu jammy/universe amd64 tesseract-ocr amd64 4.1.1-2.1build1 [236 kB]\n",
            "Fetched 4,816 kB in 1s (3,329 kB/s)\n",
            "debconf: unable to initialize frontend: Dialog\n",
            "debconf: (No usable dialog-like program is installed, so the dialog based frontend cannot be used. at /usr/share/perl5/Debconf/FrontEnd/Dialog.pm line 78, <> line 3.)\n",
            "debconf: falling back to frontend: Readline\n",
            "debconf: unable to initialize frontend: Readline\n",
            "debconf: (This frontend requires a controlling tty.)\n",
            "debconf: falling back to frontend: Teletype\n",
            "dpkg-preconfigure: unable to re-open stdin: \n",
            "Selecting previously unselected package tesseract-ocr-eng.\n",
            "(Reading database ... 120511 files and directories currently installed.)\n",
            "Preparing to unpack .../tesseract-ocr-eng_1%3a4.00~git30-7274cfa-1.1_all.deb ...\n",
            "Unpacking tesseract-ocr-eng (1:4.00~git30-7274cfa-1.1) ...\n",
            "Selecting previously unselected package tesseract-ocr-osd.\n",
            "Preparing to unpack .../tesseract-ocr-osd_1%3a4.00~git30-7274cfa-1.1_all.deb ...\n",
            "Unpacking tesseract-ocr-osd (1:4.00~git30-7274cfa-1.1) ...\n",
            "Selecting previously unselected package tesseract-ocr.\n",
            "Preparing to unpack .../tesseract-ocr_4.1.1-2.1build1_amd64.deb ...\n",
            "Unpacking tesseract-ocr (4.1.1-2.1build1) ...\n",
            "Setting up tesseract-ocr-eng (1:4.00~git30-7274cfa-1.1) ...\n",
            "Setting up tesseract-ocr-osd (1:4.00~git30-7274cfa-1.1) ...\n",
            "Setting up tesseract-ocr (4.1.1-2.1build1) ...\n",
            "Processing triggers for man-db (2.10.2-1) ...\n"
          ]
        }
      ]
    },
    {
      "cell_type": "markdown",
      "source": [
        "使用 pytesseract 套件"
      ],
      "metadata": {
        "id": "EpZXr6hmYyG7"
      }
    },
    {
      "metadata": {
        "id": "ujL16dZ2_O-3",
        "colab": {
          "base_uri": "https://localhost:8080/"
        },
        "outputId": "789db862-54ed-4334-f94f-d09ae1c05c51"
      },
      "cell_type": "code",
      "source": [
        "!pip install pytesseract"
      ],
      "execution_count": null,
      "outputs": [
        {
          "output_type": "stream",
          "name": "stdout",
          "text": [
            "Collecting pytesseract\n",
            "  Downloading pytesseract-0.3.10-py3-none-any.whl (14 kB)\n",
            "Requirement already satisfied: packaging>=21.3 in /usr/local/lib/python3.10/dist-packages (from pytesseract) (23.1)\n",
            "Requirement already satisfied: Pillow>=8.0.0 in /usr/local/lib/python3.10/dist-packages (from pytesseract) (9.4.0)\n",
            "Installing collected packages: pytesseract\n",
            "Successfully installed pytesseract-0.3.10\n"
          ]
        }
      ]
    },
    {
      "metadata": {
        "id": "QKJh7JjTAqzO"
      },
      "cell_type": "code",
      "source": [
        "import pytesseract\n",
        "import shutil\n",
        "import os\n",
        "import random\n",
        "try:\n",
        "    from PIL import Image\n",
        "except ImportError:\n",
        "    import Image"
      ],
      "execution_count": null,
      "outputs": []
    },
    {
      "metadata": {
        "id": "HaM3cMUDA_Ma",
        "colab": {
          "base_uri": "https://localhost:8080/"
        },
        "outputId": "787aa31c-4100-4fea-dc17-41641d508e5a"
      },
      "cell_type": "code",
      "source": [
        "extractedInformation_4 = pytesseract.image_to_string(Image.open('/content/drive/MyDrive/Colab Notebooks/人工智慧技術與網路意向分析/Week 12/testdata/meme_4.jpeg'))\n",
        "print(extractedInformation_4)"
      ],
      "execution_count": null,
      "outputs": [
        {
          "output_type": "stream",
          "name": "stdout",
          "text": [
            "      \n",
            "   \n",
            "   \n",
            "\n",
            "Ca Te\n",
            "Cyitens LO MY\n",
            "\n",
            "PAs Fol\n",
            "av\n",
            "\n",
            "PLEASE, TELL ME MORE\n",
            "ALS Sia\n",
            "\f\n"
          ]
        }
      ]
    },
    {
      "cell_type": "markdown",
      "source": [
        "測試其他的圖片"
      ],
      "metadata": {
        "id": "vgR-h_lTVh5y"
      }
    },
    {
      "cell_type": "code",
      "source": [
        "extractedInformation_2 = pytesseract.image_to_string(Image.open('/content/drive/MyDrive/Colab Notebooks/人工智慧技術與網路意向分析/Week 12/testdata/test_3.jpg'))\n",
        "print(extractedInformation_2)"
      ],
      "metadata": {
        "colab": {
          "base_uri": "https://localhost:8080/"
        },
        "id": "HoiBPoyLVmE4",
        "outputId": "b55c63a9-71e8-4272-b88d-5c621478d948"
      },
      "execution_count": null,
      "outputs": [
        {
          "output_type": "stream",
          "name": "stdout",
          "text": [
            "a\n",
            "\n",
            "    \n",
            "\n",
            " \n",
            "\n",
            " \n",
            "\n",
            " \n",
            "\n",
            " \n",
            "\n",
            " \n",
            "\n",
            " \n",
            "\n",
            " \n",
            "\n",
            " \n",
            "\n",
            " \n",
            "\n",
            " \n",
            "\n",
            " \n",
            "\n",
            " \n",
            "\n",
            " \n",
            "\n",
            " \n",
            "\n",
            " \n",
            "\n",
            " \n",
            "\n",
            " \n",
            "\n",
            " \n",
            "\n",
            " \n",
            "\n",
            " \n",
            "\n",
            " \n",
            "\n",
            " \n",
            "\n",
            " \n",
            "\n",
            " \n",
            "\n",
            " \n",
            "\n",
            " \n",
            "\n",
            "    \n",
            "\n",
            "ss ae |\n",
            "ea hee = le | |\n",
            "aragammag sendy\n",
            "Mom Rk Ra RD |\n",
            "Hah ji] A |) AR ee BP aR a\n",
            "wk 4 awa) HK a/b ah ae aE IE\n",
            "BAB ak a A ok AR\n",
            "idk saneannoa eg\n",
            "sels | ql anjaalee| (A 2) Raa)” @\n",
            "Rel h aK aR YS + ala\n",
            "PERE Mae FH! BL |\n",
            "By A AN A 4 24 = a\n",
            "A 2 TEAR A es Pes) (Blas\n",
            "Rieke east KAA hey\n",
            "peda do. ee\n",
            "iB 4 rg\n",
            "an HA sic Ere! ae. 2\\ Ale\n",
            "las dos\n",
            "\n",
            " \n",
            "\n",
            " \n",
            "\n",
            " \n",
            "\n",
            " \n",
            "\n",
            " \n",
            "\n",
            " \n",
            "\n",
            " \n",
            "\n",
            " \n",
            "\n",
            " \n",
            "\n",
            " \n",
            "\n",
            " \n",
            "\n",
            " \n",
            "\n",
            " \n",
            "\n",
            " \n",
            "\n",
            " \n",
            "\f\n"
          ]
        }
      ]
    },
    {
      "cell_type": "code",
      "source": [
        "extractedInformation_2 = pytesseract.image_to_string(Image.open('/content/drive/MyDrive/Colab Notebooks/人工智慧技術與網路意向分析/Week 12/testdata/meme_3.jpeg'))\n",
        "print(extractedInformation_2)"
      ],
      "metadata": {
        "id": "PXTUMjJRVy6T",
        "colab": {
          "base_uri": "https://localhost:8080/"
        },
        "outputId": "2ca061a5-c142-4a56-c53f-4aa14e8a2cfe"
      },
      "execution_count": null,
      "outputs": [
        {
          "output_type": "stream",
          "name": "stdout",
          "text": [
            "WHEN YOU FIND OUT\n",
            "\n",
            " \n",
            "\n",
            "J\n",
            "\n",
            "oYOU HAVE NOIMONEY\n",
            "é os @!\n",
            "eo = on . JUL\n",
            "\f\n"
          ]
        }
      ]
    },
    {
      "cell_type": "markdown",
      "source": [
        "各國語言需個別安裝額外資料：\n",
        "\n",
        "*   中文：https://github.com/tesseract-ocr/tessdata_best/raw/main/chi_tra.traineddata\n",
        "*   其他的語言包，都可以在官方 github 找到：https://github.com/tesseract-ocr/tessdata_best\n"
      ],
      "metadata": {
        "id": "jYFb7mtqa9ZW"
      }
    },
    {
      "cell_type": "code",
      "source": [
        "!wget https://github.com/tesseract-ocr/tessdata_best/raw/main/chi_tra.traineddata"
      ],
      "metadata": {
        "id": "-E-nVaL9bXb0",
        "colab": {
          "base_uri": "https://localhost:8080/"
        },
        "outputId": "1b12c827-c664-4d0b-c783-0548eaa611f2"
      },
      "execution_count": null,
      "outputs": [
        {
          "output_type": "stream",
          "name": "stdout",
          "text": [
            "--2023-08-09 02:31:31--  https://github.com/tesseract-ocr/tessdata_best/raw/main/chi_tra.traineddata\n",
            "Resolving github.com (github.com)... 140.82.112.3\n",
            "Connecting to github.com (github.com)|140.82.112.3|:443... connected.\n",
            "HTTP request sent, awaiting response... 302 Found\n",
            "Location: https://raw.githubusercontent.com/tesseract-ocr/tessdata_best/main/chi_tra.traineddata [following]\n",
            "--2023-08-09 02:31:31--  https://raw.githubusercontent.com/tesseract-ocr/tessdata_best/main/chi_tra.traineddata\n",
            "Resolving raw.githubusercontent.com (raw.githubusercontent.com)... 185.199.109.133, 185.199.111.133, 185.199.110.133, ...\n",
            "Connecting to raw.githubusercontent.com (raw.githubusercontent.com)|185.199.109.133|:443... connected.\n",
            "HTTP request sent, awaiting response... 200 OK\n",
            "Length: 12985735 (12M) [application/octet-stream]\n",
            "Saving to: ‘chi_tra.traineddata’\n",
            "\n",
            "chi_tra.traineddata 100%[===================>]  12.38M  --.-KB/s    in 0.1s    \n",
            "\n",
            "2023-08-09 02:31:32 (120 MB/s) - ‘chi_tra.traineddata’ saved [12985735/12985735]\n",
            "\n"
          ]
        }
      ]
    },
    {
      "cell_type": "code",
      "source": [
        "# tessert 語言包安裝位置\n",
        "# /usr/share/tesseract-ocr/4.00/tessdata\n",
        "!cp chi_tra.traineddata /usr/share/tesseract-ocr/4.00/tessdata"
      ],
      "metadata": {
        "id": "9jflWfMGbrz5"
      },
      "execution_count": null,
      "outputs": []
    },
    {
      "metadata": {
        "id": "aw9nJoeqBWZP"
      },
      "cell_type": "code",
      "source": [
        "# 試看看中文?\n",
        "extractedInformation_cht = pytesseract.image_to_string(Image.open('/content/drive/MyDrive/Colab Notebooks/人工智慧技術與網路意向分析/Week 12/testdata/test_1.jpg'), lang=\"chi_tra\")"
      ],
      "execution_count": null,
      "outputs": []
    },
    {
      "cell_type": "code",
      "source": [
        "print(extractedInformation_cht)"
      ],
      "metadata": {
        "id": "uQoVQ099aX9z",
        "colab": {
          "base_uri": "https://localhost:8080/"
        },
        "outputId": "18ad23ed-5d4e-4361-f909-f701b098d873"
      },
      "execution_count": null,
      "outputs": [
        {
          "output_type": "stream",
          "name": "stdout",
          "text": [
            "這 是 一 個 中 文 測試 語句 。\n",
            "他 可 以 成 功 辨 識 嗎 ?。\n",
            "\n",
            " \n",
            "\f\n"
          ]
        }
      ]
    },
    {
      "cell_type": "code",
      "source": [],
      "metadata": {
        "id": "NxpjtO8gOtBm"
      },
      "execution_count": null,
      "outputs": []
    }
  ]
}